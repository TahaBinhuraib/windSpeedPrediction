{
 "cells": [
  {
   "cell_type": "code",
   "execution_count": 56,
   "id": "synthetic-executive",
   "metadata": {},
   "outputs": [],
   "source": [
    "import pandas as pd\n",
    "import numpy as np\n",
    "import warnings\n",
    "warnings.filterwarnings('ignore')\n",
    "\n",
    "df_1 = pd.read_csv('Data/ISTANBUL_GercekZamanliUretim-LODOS-KEMERBURGAZ-RES-40W0000000006156-01022018-01022021.csv')"
   ]
  },
  {
   "cell_type": "code",
   "execution_count": 57,
   "id": "compact-medline",
   "metadata": {},
   "outputs": [
    {
     "data": {
      "text/html": [
       "<div>\n",
       "<style scoped>\n",
       "    .dataframe tbody tr th:only-of-type {\n",
       "        vertical-align: middle;\n",
       "    }\n",
       "\n",
       "    .dataframe tbody tr th {\n",
       "        vertical-align: top;\n",
       "    }\n",
       "\n",
       "    .dataframe thead th {\n",
       "        text-align: right;\n",
       "    }\n",
       "</style>\n",
       "<table border=\"1\" class=\"dataframe\">\n",
       "  <thead>\n",
       "    <tr style=\"text-align: right;\">\n",
       "      <th></th>\n",
       "      <th>Tarih</th>\n",
       "      <th>Saat</th>\n",
       "      <th>Toplam (MWh)</th>\n",
       "      <th>Do�al Gaz</th>\n",
       "      <th>Barajl�</th>\n",
       "      <th>Linyit</th>\n",
       "      <th>Akarsu</th>\n",
       "      <th>�thal K�m�r</th>\n",
       "      <th>R�zgar</th>\n",
       "      <th>G�ne�</th>\n",
       "      <th>Fuel Oil</th>\n",
       "      <th>Jeotermal</th>\n",
       "      <th>Asfaltit K�m�r</th>\n",
       "      <th>Ta� K�m�r</th>\n",
       "      <th>Biyok�tle</th>\n",
       "      <th>Nafta</th>\n",
       "      <th>LNG</th>\n",
       "      <th>Uluslararas�</th>\n",
       "    </tr>\n",
       "  </thead>\n",
       "  <tbody>\n",
       "    <tr>\n",
       "      <th>0</th>\n",
       "      <td>01.02.2018</td>\n",
       "      <td>00:00</td>\n",
       "      <td>1.17</td>\n",
       "      <td>0,00</td>\n",
       "      <td>0,00</td>\n",
       "      <td>0,00</td>\n",
       "      <td>0,00</td>\n",
       "      <td>0,00</td>\n",
       "      <td>1,17</td>\n",
       "      <td>0,00</td>\n",
       "      <td>0,00</td>\n",
       "      <td>0,00</td>\n",
       "      <td>0,00</td>\n",
       "      <td>0,00</td>\n",
       "      <td>0,00</td>\n",
       "      <td>0,00</td>\n",
       "      <td>0,00</td>\n",
       "      <td>0,00</td>\n",
       "    </tr>\n",
       "    <tr>\n",
       "      <th>1</th>\n",
       "      <td>01.02.2018</td>\n",
       "      <td>01:00</td>\n",
       "      <td>1.82</td>\n",
       "      <td>0,00</td>\n",
       "      <td>0,00</td>\n",
       "      <td>0,00</td>\n",
       "      <td>0,00</td>\n",
       "      <td>0,00</td>\n",
       "      <td>1,82</td>\n",
       "      <td>0,00</td>\n",
       "      <td>0,00</td>\n",
       "      <td>0,00</td>\n",
       "      <td>0,00</td>\n",
       "      <td>0,00</td>\n",
       "      <td>0,00</td>\n",
       "      <td>0,00</td>\n",
       "      <td>0,00</td>\n",
       "      <td>0,00</td>\n",
       "    </tr>\n",
       "    <tr>\n",
       "      <th>2</th>\n",
       "      <td>01.02.2018</td>\n",
       "      <td>02:00</td>\n",
       "      <td>3.03</td>\n",
       "      <td>0,00</td>\n",
       "      <td>0,00</td>\n",
       "      <td>0,00</td>\n",
       "      <td>0,00</td>\n",
       "      <td>0,00</td>\n",
       "      <td>3,03</td>\n",
       "      <td>0,00</td>\n",
       "      <td>0,00</td>\n",
       "      <td>0,00</td>\n",
       "      <td>0,00</td>\n",
       "      <td>0,00</td>\n",
       "      <td>0,00</td>\n",
       "      <td>0,00</td>\n",
       "      <td>0,00</td>\n",
       "      <td>0,00</td>\n",
       "    </tr>\n",
       "    <tr>\n",
       "      <th>3</th>\n",
       "      <td>01.02.2018</td>\n",
       "      <td>03:00</td>\n",
       "      <td>5.00</td>\n",
       "      <td>0,00</td>\n",
       "      <td>0,00</td>\n",
       "      <td>0,00</td>\n",
       "      <td>0,00</td>\n",
       "      <td>0,00</td>\n",
       "      <td>5,00</td>\n",
       "      <td>0,00</td>\n",
       "      <td>0,00</td>\n",
       "      <td>0,00</td>\n",
       "      <td>0,00</td>\n",
       "      <td>0,00</td>\n",
       "      <td>0,00</td>\n",
       "      <td>0,00</td>\n",
       "      <td>0,00</td>\n",
       "      <td>0,00</td>\n",
       "    </tr>\n",
       "    <tr>\n",
       "      <th>4</th>\n",
       "      <td>01.02.2018</td>\n",
       "      <td>04:00</td>\n",
       "      <td>5.00</td>\n",
       "      <td>0,00</td>\n",
       "      <td>0,00</td>\n",
       "      <td>0,00</td>\n",
       "      <td>0,00</td>\n",
       "      <td>0,00</td>\n",
       "      <td>5,00</td>\n",
       "      <td>0,00</td>\n",
       "      <td>0,00</td>\n",
       "      <td>0,00</td>\n",
       "      <td>0,00</td>\n",
       "      <td>0,00</td>\n",
       "      <td>0,00</td>\n",
       "      <td>0,00</td>\n",
       "      <td>0,00</td>\n",
       "      <td>0,00</td>\n",
       "    </tr>\n",
       "  </tbody>\n",
       "</table>\n",
       "</div>"
      ],
      "text/plain": [
       "        Tarih   Saat  Toplam (MWh) Do�al Gaz Barajl� Linyit Akarsu  \\\n",
       "0  01.02.2018  00:00          1.17      0,00    0,00   0,00   0,00   \n",
       "1  01.02.2018  01:00          1.82      0,00    0,00   0,00   0,00   \n",
       "2  01.02.2018  02:00          3.03      0,00    0,00   0,00   0,00   \n",
       "3  01.02.2018  03:00          5.00      0,00    0,00   0,00   0,00   \n",
       "4  01.02.2018  04:00          5.00      0,00    0,00   0,00   0,00   \n",
       "\n",
       "  �thal K�m�r R�zgar G�ne� Fuel Oil Jeotermal Asfaltit K�m�r Ta� K�m�r  \\\n",
       "0        0,00   1,17  0,00     0,00      0,00           0,00      0,00   \n",
       "1        0,00   1,82  0,00     0,00      0,00           0,00      0,00   \n",
       "2        0,00   3,03  0,00     0,00      0,00           0,00      0,00   \n",
       "3        0,00   5,00  0,00     0,00      0,00           0,00      0,00   \n",
       "4        0,00   5,00  0,00     0,00      0,00           0,00      0,00   \n",
       "\n",
       "  Biyok�tle Nafta   LNG Uluslararas�  \n",
       "0      0,00  0,00  0,00         0,00  \n",
       "1      0,00  0,00  0,00         0,00  \n",
       "2      0,00  0,00  0,00         0,00  \n",
       "3      0,00  0,00  0,00         0,00  \n",
       "4      0,00  0,00  0,00         0,00  "
      ]
     },
     "execution_count": 57,
     "metadata": {},
     "output_type": "execute_result"
    }
   ],
   "source": [
    "df_1.head()"
   ]
  },
  {
   "cell_type": "code",
   "execution_count": 58,
   "id": "dietary-cincinnati",
   "metadata": {},
   "outputs": [
    {
     "data": {
      "text/html": [
       "<div>\n",
       "<style scoped>\n",
       "    .dataframe tbody tr th:only-of-type {\n",
       "        vertical-align: middle;\n",
       "    }\n",
       "\n",
       "    .dataframe tbody tr th {\n",
       "        vertical-align: top;\n",
       "    }\n",
       "\n",
       "    .dataframe thead th {\n",
       "        text-align: right;\n",
       "    }\n",
       "</style>\n",
       "<table border=\"1\" class=\"dataframe\">\n",
       "  <thead>\n",
       "    <tr style=\"text-align: right;\">\n",
       "      <th></th>\n",
       "      <th>Tarih</th>\n",
       "      <th>Saat</th>\n",
       "      <th>Toplam (MWh)</th>\n",
       "    </tr>\n",
       "  </thead>\n",
       "  <tbody>\n",
       "    <tr>\n",
       "      <th>0</th>\n",
       "      <td>01.02.2018</td>\n",
       "      <td>00:00</td>\n",
       "      <td>1.17</td>\n",
       "    </tr>\n",
       "    <tr>\n",
       "      <th>1</th>\n",
       "      <td>01.02.2018</td>\n",
       "      <td>01:00</td>\n",
       "      <td>1.82</td>\n",
       "    </tr>\n",
       "    <tr>\n",
       "      <th>2</th>\n",
       "      <td>01.02.2018</td>\n",
       "      <td>02:00</td>\n",
       "      <td>3.03</td>\n",
       "    </tr>\n",
       "    <tr>\n",
       "      <th>3</th>\n",
       "      <td>01.02.2018</td>\n",
       "      <td>03:00</td>\n",
       "      <td>5.00</td>\n",
       "    </tr>\n",
       "    <tr>\n",
       "      <th>4</th>\n",
       "      <td>01.02.2018</td>\n",
       "      <td>04:00</td>\n",
       "      <td>5.00</td>\n",
       "    </tr>\n",
       "  </tbody>\n",
       "</table>\n",
       "</div>"
      ],
      "text/plain": [
       "        Tarih   Saat  Toplam (MWh)\n",
       "0  01.02.2018  00:00          1.17\n",
       "1  01.02.2018  01:00          1.82\n",
       "2  01.02.2018  02:00          3.03\n",
       "3  01.02.2018  03:00          5.00\n",
       "4  01.02.2018  04:00          5.00"
      ]
     },
     "execution_count": 58,
     "metadata": {},
     "output_type": "execute_result"
    }
   ],
   "source": [
    "df = df_1[['Tarih' , 'Saat' , 'Toplam (MWh)']]\n",
    "df.head()"
   ]
  },
  {
   "cell_type": "code",
   "execution_count": 59,
   "id": "connected-concert",
   "metadata": {},
   "outputs": [],
   "source": [
    "df['Date'] = pd.date_range(start = '20180201' , freq = 'H' , periods = len(df))\n"
   ]
  },
  {
   "cell_type": "code",
   "execution_count": 60,
   "id": "assumed-corner",
   "metadata": {},
   "outputs": [
    {
     "data": {
      "text/plain": [
       "23912"
      ]
     },
     "execution_count": 60,
     "metadata": {},
     "output_type": "execute_result"
    }
   ],
   "source": [
    "df.set_index('Date' , inplace = True)\n",
    "df = df.asfreq('h')\n",
    "len(df)"
   ]
  },
  {
   "cell_type": "code",
   "execution_count": 61,
   "id": "innocent-bumper",
   "metadata": {},
   "outputs": [],
   "source": [
    "df = df[['Toplam (MWh)']]\n",
    "df['Toplam (MWh)'] = df['Toplam (MWh)'].astype('float64')"
   ]
  },
  {
   "cell_type": "markdown",
   "id": "stylish-bolivia",
   "metadata": {},
   "source": [
    "<img src = 'energy_calculations.png'>"
   ]
  },
  {
   "cell_type": "markdown",
   "id": "second-johnson",
   "metadata": {},
   "source": [
    "### Our aim is to find the velocity given the predicted energy output from a wind powerplant.\n",
    "#### Most power plants announce their expected power outputs 24 hrs before realization"
   ]
  },
  {
   "cell_type": "code",
   "execution_count": 62,
   "id": "affected-dylan",
   "metadata": {},
   "outputs": [],
   "source": [
    "#cp = constant = 0.4 \n",
    "#rho = constant = 1.24\n",
    "#swept area(Istanbul enercon: E82) = 5281 m^2\n",
    "#number of turbines = 12\n",
    "def windVelocity(p , numberOfTurbines,cp,rho,swept):\n",
    "    den = cp*rho*swept\n",
    "    num = 2*(p / numberOfTurbines)*10**6\n",
    "    v = num/den\n",
    "    v = v**(1./3)\n",
    "    v = v\n",
    "    return v\n",
    "\n",
    "cp = 0.4\n",
    "rho = 1.24\n",
    "swept = 5281\n",
    "numberOfTurbines =1\n",
    "p = 5"
   ]
  },
  {
   "cell_type": "code",
   "execution_count": 47,
   "id": "incredible-invasion",
   "metadata": {},
   "outputs": [
    {
     "data": {
      "text/plain": [
       "15.629102953398883"
      ]
     },
     "execution_count": 47,
     "metadata": {},
     "output_type": "execute_result"
    }
   ],
   "source": [
    "windVelocity(p, numberOfTurbines,cp,rho, swept)\n"
   ]
  },
  {
   "cell_type": "code",
   "execution_count": 48,
   "id": "optical-standard",
   "metadata": {},
   "outputs": [],
   "source": [
    "cp = 0.4\n",
    "rho = 1.24\n",
    "swept = 5281\n",
    "#12 turbines in this plant\n",
    "numberOfTurbines =12"
   ]
  },
  {
   "cell_type": "code",
   "execution_count": 51,
   "id": "flying-backing",
   "metadata": {},
   "outputs": [],
   "source": [
    "results = []\n",
    "for i , j  in df.iterrows():\n",
    "    results.append(windVelocity(j['Toplam (MWh)'],numberOfTurbines,cp,rho, swept))\n",
    "results = np.array(results)\n",
    "    "
   ]
  },
  {
   "cell_type": "code",
   "execution_count": 52,
   "id": "foster-crack",
   "metadata": {},
   "outputs": [
    {
     "data": {
      "text/plain": [
       "array([4.20673921, 4.87424586, 5.77693984, ..., 0.        , 0.        ,\n",
       "       0.        ])"
      ]
     },
     "execution_count": 52,
     "metadata": {},
     "output_type": "execute_result"
    }
   ],
   "source": [
    "results"
   ]
  },
  {
   "cell_type": "code",
   "execution_count": 63,
   "id": "collected-yorkshire",
   "metadata": {},
   "outputs": [
    {
     "data": {
      "text/html": [
       "<div>\n",
       "<style scoped>\n",
       "    .dataframe tbody tr th:only-of-type {\n",
       "        vertical-align: middle;\n",
       "    }\n",
       "\n",
       "    .dataframe tbody tr th {\n",
       "        vertical-align: top;\n",
       "    }\n",
       "\n",
       "    .dataframe thead th {\n",
       "        text-align: right;\n",
       "    }\n",
       "</style>\n",
       "<table border=\"1\" class=\"dataframe\">\n",
       "  <thead>\n",
       "    <tr style=\"text-align: right;\">\n",
       "      <th></th>\n",
       "      <th>Total(MWh)</th>\n",
       "      <th>WindSpeed(m/s)</th>\n",
       "    </tr>\n",
       "    <tr>\n",
       "      <th>Date</th>\n",
       "      <th></th>\n",
       "      <th></th>\n",
       "    </tr>\n",
       "  </thead>\n",
       "  <tbody>\n",
       "    <tr>\n",
       "      <th>2018-02-01 00:00:00</th>\n",
       "      <td>1.17</td>\n",
       "      <td>4.206739</td>\n",
       "    </tr>\n",
       "    <tr>\n",
       "      <th>2018-02-01 01:00:00</th>\n",
       "      <td>1.82</td>\n",
       "      <td>4.874246</td>\n",
       "    </tr>\n",
       "    <tr>\n",
       "      <th>2018-02-01 02:00:00</th>\n",
       "      <td>3.03</td>\n",
       "      <td>5.776940</td>\n",
       "    </tr>\n",
       "    <tr>\n",
       "      <th>2018-02-01 03:00:00</th>\n",
       "      <td>5.00</td>\n",
       "      <td>6.826640</td>\n",
       "    </tr>\n",
       "    <tr>\n",
       "      <th>2018-02-01 04:00:00</th>\n",
       "      <td>5.00</td>\n",
       "      <td>6.826640</td>\n",
       "    </tr>\n",
       "    <tr>\n",
       "      <th>...</th>\n",
       "      <td>...</td>\n",
       "      <td>...</td>\n",
       "    </tr>\n",
       "    <tr>\n",
       "      <th>2020-10-24 03:00:00</th>\n",
       "      <td>0.00</td>\n",
       "      <td>0.000000</td>\n",
       "    </tr>\n",
       "    <tr>\n",
       "      <th>2020-10-24 04:00:00</th>\n",
       "      <td>0.00</td>\n",
       "      <td>0.000000</td>\n",
       "    </tr>\n",
       "    <tr>\n",
       "      <th>2020-10-24 05:00:00</th>\n",
       "      <td>0.00</td>\n",
       "      <td>0.000000</td>\n",
       "    </tr>\n",
       "    <tr>\n",
       "      <th>2020-10-24 06:00:00</th>\n",
       "      <td>0.00</td>\n",
       "      <td>0.000000</td>\n",
       "    </tr>\n",
       "    <tr>\n",
       "      <th>2020-10-24 07:00:00</th>\n",
       "      <td>0.00</td>\n",
       "      <td>0.000000</td>\n",
       "    </tr>\n",
       "  </tbody>\n",
       "</table>\n",
       "<p>23912 rows × 2 columns</p>\n",
       "</div>"
      ],
      "text/plain": [
       "                     Total(MWh)  WindSpeed(m/s)\n",
       "Date                                           \n",
       "2018-02-01 00:00:00        1.17        4.206739\n",
       "2018-02-01 01:00:00        1.82        4.874246\n",
       "2018-02-01 02:00:00        3.03        5.776940\n",
       "2018-02-01 03:00:00        5.00        6.826640\n",
       "2018-02-01 04:00:00        5.00        6.826640\n",
       "...                         ...             ...\n",
       "2020-10-24 03:00:00        0.00        0.000000\n",
       "2020-10-24 04:00:00        0.00        0.000000\n",
       "2020-10-24 05:00:00        0.00        0.000000\n",
       "2020-10-24 06:00:00        0.00        0.000000\n",
       "2020-10-24 07:00:00        0.00        0.000000\n",
       "\n",
       "[23912 rows x 2 columns]"
      ]
     },
     "execution_count": 63,
     "metadata": {},
     "output_type": "execute_result"
    }
   ],
   "source": [
    "df['Windspeed(m/s)'] = results\n",
    "df.columns = ['Total(MWh)' , 'WindSpeed(m/s)']\n",
    "df"
   ]
  },
  {
   "cell_type": "code",
   "execution_count": null,
   "id": "announced-intent",
   "metadata": {},
   "outputs": [],
   "source": []
  },
  {
   "cell_type": "code",
   "execution_count": null,
   "id": "respected-preserve",
   "metadata": {},
   "outputs": [],
   "source": []
  },
  {
   "cell_type": "code",
   "execution_count": null,
   "id": "governing-guinea",
   "metadata": {},
   "outputs": [],
   "source": []
  }
 ],
 "metadata": {
  "kernelspec": {
   "display_name": "Python 3",
   "language": "python",
   "name": "python3"
  },
  "language_info": {
   "codemirror_mode": {
    "name": "ipython",
    "version": 3
   },
   "file_extension": ".py",
   "mimetype": "text/x-python",
   "name": "python",
   "nbconvert_exporter": "python",
   "pygments_lexer": "ipython3",
   "version": "3.9.2"
  }
 },
 "nbformat": 4,
 "nbformat_minor": 5
}
