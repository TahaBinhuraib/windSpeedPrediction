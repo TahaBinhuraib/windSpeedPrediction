{
 "cells": [
  {
   "cell_type": "code",
   "execution_count": 216,
   "id": "cheap-appreciation",
   "metadata": {},
   "outputs": [],
   "source": [
    "import os\n",
    "import glob\n",
    "import pandas as pd\n",
    "import numpy as np\n",
    "\n",
    "\n",
    "path = \"/home/tbh/Documents/windPrediction/Data\"                                               \n",
    "allFiles = glob.glob(os.path.join(path,\"*.csv\"))\n",
    "\n",
    "\n",
    "\n",
    "\n"
   ]
  },
  {
   "cell_type": "code",
   "execution_count": 217,
   "id": "premier-collective",
   "metadata": {},
   "outputs": [
    {
     "data": {
      "text/plain": [
       "['/home/tbh/Documents/windPrediction/Data/AMASYA_GercekZamanliUretim-AMASYA-RES-40W000000010102T-01022018-01022021.csv',\n",
       " '/home/tbh/Documents/windPrediction/Data/Kırklareli_GercekZamanliUretim-AIRRES-4-40W000000010902Y-01022018-01022021.csv',\n",
       " '/home/tbh/Documents/windPrediction/Data/TEKIRDAG_GercekZamanliUretim-KIYIKOY-RES-%28TEKIRDAG%29-40W000000009201P-01022018-01022021.csv',\n",
       " '/home/tbh/Documents/windPrediction/Data/EDIRNE_GercekZamanliUretim-KANIJE-RES-40W000000009643U-01022018-01022021.csv',\n",
       " '/home/tbh/Documents/windPrediction/Data/BURSA_GercekZamanliUretim-HARMANLIK-RES-40W000000008780P-01022018-01022021.csv',\n",
       " '/home/tbh/Documents/windPrediction/Data/SIVAS_GercekZamanliUretim-KARACAYIR-RES--40W000000010421D-01022018-01022021.csv',\n",
       " '/home/tbh/Documents/windPrediction/Data/BILEKIC_GercekZamanliUretim-METRISTEPE-RES-40W0000000051208-01022018-01022021.csv',\n",
       " '/home/tbh/Documents/windPrediction/Data/AYDIN_GercekZamanliUretim-SOKE-RES-40W000000009583M-01022018-01022021.csv',\n",
       " '/home/tbh/Documents/windPrediction/Data/HATAY_GercekZamanliUretim-CERCIKAYA-RES-40W0000000083189-01022018-01022021.csv',\n",
       " '/home/tbh/Documents/windPrediction/Data/TOKAT_GercekZamanliUretim-BEREKETLI-RES-40W000000010301N-01022018-01022021.csv',\n",
       " '/home/tbh/Documents/windPrediction/Data/KONYA_GercekZamanliUretim-BAGLAR-RES-40W000000012183U-01022018-01022021.csv',\n",
       " '/home/tbh/Documents/windPrediction/Data/GAZIANTEP_GercekZamanliUretim-KARTALDAGI-RES-40W000000011023K-01022018-01022021.csv',\n",
       " '/home/tbh/Documents/windPrediction/Data/OSMANIYE_GercekZamanliUretim-GOKCEDAG-RES-40W000000000694L-01022018-01022021.csv',\n",
       " '/home/tbh/Documents/windPrediction/Data/ISTANBUL_GercekZamanliUretim-LODOS-KEMERBURGAZ-RES-40W0000000006156-01022018-01022021.csv',\n",
       " '/home/tbh/Documents/windPrediction/Data/CANAKKALE_GercekZamanliUretim-BIGA-RES-40W000000009556P-01022018-01022021.csv',\n",
       " '/home/tbh/Documents/windPrediction/Data/MUGLA_GercekZamanliUretim-FATMA-RES-40W000000010584M-01022018-01022021.csv',\n",
       " '/home/tbh/Documents/windPrediction/Data/YALOVA_GercekZamanliUretim-YALOVA-RES-40W000000009582O-01022018-01022021.csv',\n",
       " '/home/tbh/Documents/windPrediction/Data/ADIYAMAN_GercekZamanliUretim-SINCIK-RES-40W000000009841Q-01022018-01022021.csv',\n",
       " '/home/tbh/Documents/windPrediction/Data/KOCAELI_GercekZamanliUretim-GOKDAG-RES-40W000000011703Z-01022018-01022021.csv',\n",
       " '/home/tbh/Documents/windPrediction/Data/KAYSERI_GercekZamanliUretim-KURTKAYASI-RES-40W0000000097031-01022018-01022021.csv',\n",
       " '/home/tbh/Documents/windPrediction/Data/ISPARTA_GercekZamanliUretim-ULUBORLU-RES-40W000000009921S-01022018-01022021.csv',\n",
       " '/home/tbh/Documents/windPrediction/Data/USAK_GercekZamanliUretim-USAK-RES-40W000000007459X-01022018-01022021.csv',\n",
       " '/home/tbh/Documents/windPrediction/Data/MERSIN_GercekZamanliUretim-DAGPAZARI-RES-40W000000005542J-01022018-01022021.csv',\n",
       " '/home/tbh/Documents/windPrediction/Data/IZMIR_GercekZamanliUretim-BERGRES-RES-40W000000010903W-01022018-01022021.csv',\n",
       " '/home/tbh/Documents/windPrediction/Data/MANISA_GercekZamanliUretim-KIRKAGAC-RES-40W000000010501F-01022018-01022021.csv',\n",
       " '/home/tbh/Documents/windPrediction/Data/AFYON_GercekZamanliUretim-DINAR-RES-40W000000005936Z-01022018-01022021.csv']"
      ]
     },
     "execution_count": 217,
     "metadata": {},
     "output_type": "execute_result"
    }
   ],
   "source": [
    "allFiles"
   ]
  },
  {
   "cell_type": "code",
   "execution_count": 218,
   "id": "right-production",
   "metadata": {},
   "outputs": [],
   "source": [
    "import os\n",
    "import glob\n",
    "import pandas as pd\n",
    "import numpy as np\n",
    "   \n",
    "path = \"/home/tbh/Documents/windPrediction/Data\""
   ]
  },
  {
   "cell_type": "code",
   "execution_count": 219,
   "id": "radio-melissa",
   "metadata": {},
   "outputs": [],
   "source": [
    "cities = ['AMASYA','KIRLARELI','TEKIRDAG','EDIRNE','BURSA','SIVAS','BILECIK','AYDIN','HATAY','TOKAT','KONYA','GAZIANTEP','OSMANIYE','ISTANBUL','CNK','MUGLA','YALOVA','ADIYAMAN','KOC','KAYSERI','ISPARTA','USAK','MERSIN','IZMIR','MANISA','AFYON']"
   ]
  },
  {
   "cell_type": "code",
   "execution_count": 220,
   "id": "serious-limit",
   "metadata": {},
   "outputs": [],
   "source": [
    "i = 0\n",
    "for city in allFiles:\n",
    "    \n",
    "    globals()[l[i]] = pd.read_csv(city,usecols = ['Tarih','Saat','Toplam (MWh)'])\n",
    "    globals()[l[i]]=globals()[l[i]].stack().str.replace(',','.').unstack()\n",
    "    globals()[l[i]]['Toplam (MWh)'] = globals()[l[i]]['Toplam (MWh)'].astype('float64')\n",
    "    i+=1\n",
    "    \n",
    "\n"
   ]
  },
  {
   "cell_type": "code",
   "execution_count": 221,
   "id": "fifteen-syntax",
   "metadata": {},
   "outputs": [],
   "source": [
    "#SWEPT,NUMBER_OF_TURBINE\n",
    "AMASYA_ = [12469 , 14]\n",
    "ADIYAMAN_ = [7823,11]\n",
    "AFYON_ = [9161,81]\n",
    "AYDIN_ = [9852,15]\n",
    "BILECIK_ = [7823,16]\n",
    "BURSA_ = [9852,17]\n",
    "CNK_ = [8332,19]\n",
    "EDIRNE_ = [10000,16]\n",
    "GAZIANTEP_ = [12469,19]\n",
    "HATAY_ = [12305,19]\n",
    "ISPARTA_ = [8332,36]\n",
    "ISTANBUL_ = [5281,12]\n",
    "IZMIR_ = [8332,21]\n",
    "KAYSERI_ = [10715,19]\n",
    "KIRLARELI_ = [10000,19]\n",
    "KOC_ = [8332,6]\n",
    "KONYA_ = [13685,24]\n",
    "MANISA_ = [8332,16]\n",
    "MERSIN_ = [8000,13]\n",
    "MUGLA_ = [10000,25]\n",
    "OSMANIYE_ = [7854,54] \n",
    "SIVAS_ = [10207,6]\n",
    "TEKIRDAG_ = [10715,15]\n",
    "TOKAT_ = [10000,10]\n",
    "USAK_ = [6421,36]\n",
    "YALOVA_ = [6421,36]"
   ]
  },
  {
   "cell_type": "code",
   "execution_count": 222,
   "id": "solved-bookmark",
   "metadata": {},
   "outputs": [],
   "source": [
    "def windVelocity(p , numberOfTurbines,cp,rho,swept):\n",
    "    den = cp*rho*swept\n",
    "    num = 2*(p / numberOfTurbines)*10**6\n",
    "    v = num/den\n",
    "    v = v**(1./3)\n",
    "    v = v\n",
    "    return v"
   ]
  },
  {
   "cell_type": "code",
   "execution_count": 223,
   "id": "adopted-hammer",
   "metadata": {},
   "outputs": [],
   "source": [
    "cp = 0.4\n",
    "rho = 1.24\n",
    "for i in l:\n",
    "    globals()[i+'Results'] = []"
   ]
  },
  {
   "cell_type": "code",
   "execution_count": 224,
   "id": "institutional-property",
   "metadata": {},
   "outputs": [],
   "source": [
    "for city in cities:\n",
    "    \n",
    "    for i,k in globals()[city].iterrows():\n",
    "        \n",
    "        globals()[city+'Results'].append(windVelocity(k['Toplam (MWh)'] , globals()[city+'_'][1],cp,rho,globals()[city+'_'][0]))\n",
    "        "
   ]
  },
  {
   "cell_type": "code",
   "execution_count": null,
   "id": "executive-boards",
   "metadata": {},
   "outputs": [],
   "source": []
  },
  {
   "cell_type": "code",
   "execution_count": 225,
   "id": "unlike-township",
   "metadata": {},
   "outputs": [
    {
     "data": {
      "text/html": [
       "<div>\n",
       "<style scoped>\n",
       "    .dataframe tbody tr th:only-of-type {\n",
       "        vertical-align: middle;\n",
       "    }\n",
       "\n",
       "    .dataframe tbody tr th {\n",
       "        vertical-align: top;\n",
       "    }\n",
       "\n",
       "    .dataframe thead th {\n",
       "        text-align: right;\n",
       "    }\n",
       "</style>\n",
       "<table border=\"1\" class=\"dataframe\">\n",
       "  <thead>\n",
       "    <tr style=\"text-align: right;\">\n",
       "      <th></th>\n",
       "      <th>Tarih</th>\n",
       "      <th>Saat</th>\n",
       "      <th>Toplam (MWh)</th>\n",
       "      <th>AMASYA WindSpeed(m/s)</th>\n",
       "    </tr>\n",
       "  </thead>\n",
       "  <tbody>\n",
       "    <tr>\n",
       "      <th>0</th>\n",
       "      <td>01.02.2018</td>\n",
       "      <td>00:00</td>\n",
       "      <td>6.0</td>\n",
       "      <td>5.175035</td>\n",
       "    </tr>\n",
       "    <tr>\n",
       "      <th>1</th>\n",
       "      <td>01.02.2018</td>\n",
       "      <td>01:00</td>\n",
       "      <td>6.0</td>\n",
       "      <td>5.175035</td>\n",
       "    </tr>\n",
       "    <tr>\n",
       "      <th>2</th>\n",
       "      <td>01.02.2018</td>\n",
       "      <td>02:00</td>\n",
       "      <td>6.0</td>\n",
       "      <td>5.175035</td>\n",
       "    </tr>\n",
       "    <tr>\n",
       "      <th>3</th>\n",
       "      <td>01.02.2018</td>\n",
       "      <td>03:00</td>\n",
       "      <td>6.0</td>\n",
       "      <td>5.175035</td>\n",
       "    </tr>\n",
       "    <tr>\n",
       "      <th>4</th>\n",
       "      <td>01.02.2018</td>\n",
       "      <td>04:00</td>\n",
       "      <td>9.0</td>\n",
       "      <td>5.923936</td>\n",
       "    </tr>\n",
       "    <tr>\n",
       "      <th>...</th>\n",
       "      <td>...</td>\n",
       "      <td>...</td>\n",
       "      <td>...</td>\n",
       "      <td>...</td>\n",
       "    </tr>\n",
       "    <tr>\n",
       "      <th>26323</th>\n",
       "      <td>01.02.2021</td>\n",
       "      <td>19:00</td>\n",
       "      <td>42.0</td>\n",
       "      <td>9.899486</td>\n",
       "    </tr>\n",
       "    <tr>\n",
       "      <th>26324</th>\n",
       "      <td>01.02.2021</td>\n",
       "      <td>20:00</td>\n",
       "      <td>42.0</td>\n",
       "      <td>9.899486</td>\n",
       "    </tr>\n",
       "    <tr>\n",
       "      <th>26325</th>\n",
       "      <td>01.02.2021</td>\n",
       "      <td>21:00</td>\n",
       "      <td>42.0</td>\n",
       "      <td>9.899486</td>\n",
       "    </tr>\n",
       "    <tr>\n",
       "      <th>26326</th>\n",
       "      <td>01.02.2021</td>\n",
       "      <td>22:00</td>\n",
       "      <td>42.0</td>\n",
       "      <td>9.899486</td>\n",
       "    </tr>\n",
       "    <tr>\n",
       "      <th>26327</th>\n",
       "      <td>01.02.2021</td>\n",
       "      <td>23:00</td>\n",
       "      <td>42.0</td>\n",
       "      <td>9.899486</td>\n",
       "    </tr>\n",
       "  </tbody>\n",
       "</table>\n",
       "<p>26328 rows × 4 columns</p>\n",
       "</div>"
      ],
      "text/plain": [
       "            Tarih   Saat  Toplam (MWh)  AMASYA WindSpeed(m/s)\n",
       "0      01.02.2018  00:00           6.0               5.175035\n",
       "1      01.02.2018  01:00           6.0               5.175035\n",
       "2      01.02.2018  02:00           6.0               5.175035\n",
       "3      01.02.2018  03:00           6.0               5.175035\n",
       "4      01.02.2018  04:00           9.0               5.923936\n",
       "...           ...    ...           ...                    ...\n",
       "26323  01.02.2021  19:00          42.0               9.899486\n",
       "26324  01.02.2021  20:00          42.0               9.899486\n",
       "26325  01.02.2021  21:00          42.0               9.899486\n",
       "26326  01.02.2021  22:00          42.0               9.899486\n",
       "26327  01.02.2021  23:00          42.0               9.899486\n",
       "\n",
       "[26328 rows x 4 columns]"
      ]
     },
     "execution_count": 225,
     "metadata": {},
     "output_type": "execute_result"
    }
   ],
   "source": [
    "for i in l:\n",
    "    globals()[i+'Results'] = np.array(globals()[i+'Results'])\n",
    "for city in l:\n",
    "    globals()[city][city + ' WindSpeed(m/s)'] = globals()[city+'Results']\n",
    "AMASYA\n",
    "    "
   ]
  },
  {
   "cell_type": "code",
   "execution_count": 227,
   "id": "tutorial-initial",
   "metadata": {},
   "outputs": [
    {
     "data": {
      "text/plain": [
       "array([5.17503514, 5.17503514, 5.17503514, ..., 9.89948609, 9.89948609,\n",
       "       9.89948609])"
      ]
     },
     "execution_count": 227,
     "metadata": {},
     "output_type": "execute_result"
    }
   ],
   "source": [
    "AMASYAResults"
   ]
  },
  {
   "cell_type": "code",
   "execution_count": 233,
   "id": "robust-borough",
   "metadata": {},
   "outputs": [],
   "source": [
    "for i in l:\n",
    "    cityName = i \n",
    "    globals()[i].to_csv(\"/home/tbh/Documents/windPrediction/Data/{}.csv\".format(i+'WindspeedData'))"
   ]
  },
  {
   "cell_type": "code",
   "execution_count": null,
   "id": "simple-looking",
   "metadata": {},
   "outputs": [],
   "source": []
  }
 ],
 "metadata": {
  "kernelspec": {
   "display_name": "Python 3",
   "language": "python",
   "name": "python3"
  },
  "language_info": {
   "codemirror_mode": {
    "name": "ipython",
    "version": 3
   },
   "file_extension": ".py",
   "mimetype": "text/x-python",
   "name": "python",
   "nbconvert_exporter": "python",
   "pygments_lexer": "ipython3",
   "version": "3.9.2"
  }
 },
 "nbformat": 4,
 "nbformat_minor": 5
}
